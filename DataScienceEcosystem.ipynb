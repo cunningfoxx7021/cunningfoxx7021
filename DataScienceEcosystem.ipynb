{
 "cells": [
  {
   "cell_type": "markdown",
   "id": "b60de982-b5d7-449d-8994-98fbf2c5a01a",
   "metadata": {},
   "source": [
    "# Data Science Tools and Ecosystem"
   ]
  },
  {
   "cell_type": "markdown",
   "id": "1cd38e61-17ca-4015-ac2c-0dd6c2ddf3d1",
   "metadata": {},
   "source": [
    "In this notebook, Data Science Tools and Ecosystem are summarized"
   ]
  },
  {
   "cell_type": "markdown",
   "id": "2d80240b-9a0c-41a3-9482-047e53e07c82",
   "metadata": {},
   "source": [
    "Some of the popular languages that Data Scientists use are:\n",
    "1. Python\n",
    "2. R\n",
    "3. Scala"
   ]
  },
  {
   "cell_type": "markdown",
   "id": "8bc14f11-b56e-4481-a067-618319d1bd01",
   "metadata": {},
   "source": [
    "__Objectives:__\n",
    "- List popular languages for Data Science\n",
    "- List common libraries used for Data Science\n",
    "- List development environment open source tools for Data Science"
   ]
  },
  {
   "cell_type": "markdown",
   "id": "1b26cb0c-094f-4860-b295-4c286a8693ae",
   "metadata": {},
   "source": [
    "Some of the commonly used libraries used by Daa Scientists include:\n",
    "1. Pandas\n",
    "2. Numpy\n",
    "3. ggplot\n",
    "4. Seaborn\n",
    "5. Matplotlib"
   ]
  },
  {
   "cell_type": "markdown",
   "id": "e3770333-ead5-4f5c-92e3-0322286bbeda",
   "metadata": {},
   "source": [
    "| Data Science Tools |\n",
    "| ------------------ |\n",
    "| Github |\n",
    "| JupyterLab |\n",
    "| R-Studio |\n"
   ]
  },
  {
   "cell_type": "markdown",
   "id": "0fa73204-1581-4ec2-98ae-895f51e8df1f",
   "metadata": {},
   "source": [
    "### Below are a few examples of evaluating arithmetic expressions in Python"
   ]
  },
  {
   "cell_type": "code",
   "execution_count": 1,
   "id": "d96cf24d-56fd-4b82-8ad8-7e6ae7644613",
   "metadata": {},
   "outputs": [
    {
     "data": {
      "text/plain": [
       "17"
      ]
     },
     "execution_count": 1,
     "metadata": {},
     "output_type": "execute_result"
    }
   ],
   "source": [
    "# This is a simple arithmetic expression to multiply then add integers\n",
    "(3*4)+5"
   ]
  },
  {
   "cell_type": "code",
   "execution_count": 3,
   "id": "6098e7a5-38bd-40c5-9878-9dc0929e9de8",
   "metadata": {},
   "outputs": [
    {
     "data": {
      "text/plain": [
       "3.3333333333333335"
      ]
     },
     "execution_count": 3,
     "metadata": {},
     "output_type": "execute_result"
    }
   ],
   "source": [
    "# This will convert 200 minutes to hours by dividing by 60\n",
    "200/60"
   ]
  },
  {
   "cell_type": "markdown",
   "id": "a16b85b6-4ac0-4278-b368-99c8dc9a28e5",
   "metadata": {},
   "source": [
    "## Author\n",
    "Ray Zhang"
   ]
  },
  {
   "cell_type": "code",
   "execution_count": null,
   "id": "dbdbf003-2db6-4f5e-8d17-819c1334abd9",
   "metadata": {},
   "outputs": [],
   "source": []
  }
 ],
 "metadata": {
  "kernelspec": {
   "display_name": "Python 3 (ipykernel)",
   "language": "python",
   "name": "python3"
  },
  "language_info": {
   "codemirror_mode": {
    "name": "ipython",
    "version": 3
   },
   "file_extension": ".py",
   "mimetype": "text/x-python",
   "name": "python",
   "nbconvert_exporter": "python",
   "pygments_lexer": "ipython3",
   "version": "3.11.7"
  }
 },
 "nbformat": 4,
 "nbformat_minor": 5
}
